{
 "cells": [
  {
   "cell_type": "code",
   "execution_count": 3,
   "metadata": {},
   "outputs": [],
   "source": [
    "#microphone check one two what is this!"
   ]
  },
  {
   "cell_type": "code",
   "execution_count": 10,
   "metadata": {},
   "outputs": [],
   "source": [
    "import pandas as pd\n",
    "import numpy as np\n",
    "\n",
    "import warnings\n",
    "warnings.filterwarnings(\"ignore\", category=UserWarning, module=\"openpyxl\")\n",
    "\n",
    "import re\n",
    "\n",
    "from thefuzz import process"
   ]
  },
  {
   "cell_type": "code",
   "execution_count": 12,
   "metadata": {},
   "outputs": [],
   "source": [
    "tube_perf = pd.read_excel(\"tfl-tube-performance.xlsx\")\n",
    "\n",
    "entry_exit = pd.read_excel(\"multi-year-station-entry-and-exit-figures.xlsx\", sheet_name=None)\n",
    "\n",
    "df_list = []\n",
    "for year, data in entry_exit.items():\n",
    "    data['year'] = year\n",
    "    df_list.append(data)\n",
    "entry_exit_df = pd.concat(df_list, ignore_index=True)"
   ]
  },
  {
   "cell_type": "code",
   "execution_count": 13,
   "metadata": {},
   "outputs": [],
   "source": [
    "df_list = []\n",
    "for sheet, data in entry_exit.items():\n",
    "    year = re.findall(r'\\d{4}', sheet)\n",
    "    data['year'] = int(year[0]) if year else None\n",
    "    df_list.append(data)\n",
    "\n",
    "entry_exit_df = pd.concat(df_list, ignore_index=True)"
   ]
  },
  {
   "cell_type": "code",
   "execution_count": 14,
   "metadata": {},
   "outputs": [],
   "source": [
    "tube_perf.columns = tube_perf.columns.str.strip().str.lower().str.replace(\" \", \"_\")\n",
    "entry_exit_df.columns = entry_exit_df.columns.str.strip().str.lower().str.replace(\" \", \"_\")"
   ]
  },
  {
   "cell_type": "code",
   "execution_count": 15,
   "metadata": {},
   "outputs": [],
   "source": [
    "tube_perf = tube_perf[['name', 'london_underground_performance_data']].rename(columns={'name': 'station_name'})\n",
    "entry_exit_df = entry_exit_df[['station', 'local_authority', 'zone(s)[†]', 'year', 'usage[5]']]\n",
    "\n",
    "#fuzzy matching\n",
    "station_names_perf = tube_perf['station_name'].dropna().unique()\n",
    "entry_exit_df['matched_station'] = entry_exit_df['station'].apply(\n",
    "    lambda x: process.extractOne(x, station_names_perf)[0] if isinstance(x, str) else None)"
   ]
  },
  {
   "cell_type": "code",
   "execution_count": 16,
   "metadata": {},
   "outputs": [
    {
     "name": "stdout",
     "output_type": "stream",
     "text": [
      "Merged shape: (196718, 8)\n",
      "  station local_authority zone(s)[†]  year usage[5] matched_station  \\\n",
      "0     NaN             NaN        NaN  None      NaN            None   \n",
      "1     NaN             NaN        NaN  None      NaN            None   \n",
      "2     NaN             NaN        NaN  None      NaN            None   \n",
      "3     NaN             NaN        NaN  None      NaN            None   \n",
      "4     NaN             NaN        NaN  None      NaN            None   \n",
      "\n",
      "  station_name                london_underground_performance_data  \n",
      "0          NaN                                                NaN  \n",
      "1          NaN                                                NaN  \n",
      "2          NaN                                                NaN  \n",
      "3          NaN                                                NaN  \n",
      "4          NaN  The analysis of each period are taken from the...  \n"
     ]
    }
   ],
   "source": [
    "#merging datasets\n",
    "merged_df = pd.merge(\n",
    "    entry_exit_df,\n",
    "    tube_perf,\n",
    "    left_on='matched_station',\n",
    "    right_on='station_name',\n",
    "    how='left')\n",
    "\n",
    "print(\"Merged shape:\", merged_df.shape)\n",
    "print(merged_df.head())"
   ]
  },
  {
   "cell_type": "code",
   "execution_count": null,
   "metadata": {},
   "outputs": [],
   "source": []
  }
 ],
 "metadata": {
  "kernelspec": {
   "display_name": "sklearn-env",
   "language": "python",
   "name": "python3"
  },
  "language_info": {
   "codemirror_mode": {
    "name": "ipython",
    "version": 3
   },
   "file_extension": ".py",
   "mimetype": "text/x-python",
   "name": "python",
   "nbconvert_exporter": "python",
   "pygments_lexer": "ipython3",
   "version": "3.11.5"
  },
  "orig_nbformat": 4
 },
 "nbformat": 4,
 "nbformat_minor": 2
}
